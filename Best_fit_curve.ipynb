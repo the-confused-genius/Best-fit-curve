{
  "cells": [
    {
      "cell_type": "markdown",
      "metadata": {
        "id": "view-in-github",
        "colab_type": "text"
      },
      "source": [
        "<a href=\"https://colab.research.google.com/github/the-confused-genius/Best-fit-curve/blob/main/Best_fit_curve.ipynb\" target=\"_parent\"><img src=\"https://colab.research.google.com/assets/colab-badge.svg\" alt=\"Open In Colab\"/></a>"
      ]
    },
    {
      "cell_type": "markdown",
      "source": [
        "# Finding the Best fit curve"
      ],
      "metadata": {
        "id": "Vt4s-G_wlpCi"
      }
    },
    {
      "cell_type": "markdown",
      "source": [
        "## Importing the libraries"
      ],
      "metadata": {
        "id": "8ocGS15zvAI8"
      }
    },
    {
      "cell_type": "code",
      "execution_count": 1,
      "metadata": {
        "id": "vJTLTHZgd7EM"
      },
      "outputs": [],
      "source": [
        "import pandas as pd\n",
        "import numpy as np\n",
        "from numpy import arange\n",
        "from matplotlib import pyplot\n",
        "from scipy.optimize import curve_fit"
      ]
    },
    {
      "cell_type": "code",
      "source": [
        "link = 'https://raw.githubusercontent.com/the-confused-genius/Best-fit-curve/main/sample.csv'\n",
        "df = pd.read_csv(link, header=None)\n",
        "df.head()"
      ],
      "metadata": {
        "colab": {
          "base_uri": "https://localhost:8080/",
          "height": 206
        },
        "id": "YUgpF3iKu2OB",
        "outputId": "efc98990-0275-41df-923e-aedebaa971e7"
      },
      "execution_count": 2,
      "outputs": [
        {
          "output_type": "execute_result",
          "data": {
            "text/html": [
              "\n",
              "  <div id=\"df-e2cef5bc-1f46-4439-9a59-1c114119eb37\">\n",
              "    <div class=\"colab-df-container\">\n",
              "      <div>\n",
              "<style scoped>\n",
              "    .dataframe tbody tr th:only-of-type {\n",
              "        vertical-align: middle;\n",
              "    }\n",
              "\n",
              "    .dataframe tbody tr th {\n",
              "        vertical-align: top;\n",
              "    }\n",
              "\n",
              "    .dataframe thead th {\n",
              "        text-align: right;\n",
              "    }\n",
              "</style>\n",
              "<table border=\"1\" class=\"dataframe\">\n",
              "  <thead>\n",
              "    <tr style=\"text-align: right;\">\n",
              "      <th></th>\n",
              "      <th>0</th>\n",
              "      <th>1</th>\n",
              "      <th>2</th>\n",
              "      <th>3</th>\n",
              "      <th>4</th>\n",
              "      <th>5</th>\n",
              "      <th>6</th>\n",
              "    </tr>\n",
              "  </thead>\n",
              "  <tbody>\n",
              "    <tr>\n",
              "      <th>0</th>\n",
              "      <td>83.0</td>\n",
              "      <td>234.289</td>\n",
              "      <td>235.6</td>\n",
              "      <td>159.0</td>\n",
              "      <td>107.608</td>\n",
              "      <td>1947</td>\n",
              "      <td>60.323</td>\n",
              "    </tr>\n",
              "    <tr>\n",
              "      <th>1</th>\n",
              "      <td>88.5</td>\n",
              "      <td>259.426</td>\n",
              "      <td>232.5</td>\n",
              "      <td>145.6</td>\n",
              "      <td>108.632</td>\n",
              "      <td>1948</td>\n",
              "      <td>61.122</td>\n",
              "    </tr>\n",
              "    <tr>\n",
              "      <th>2</th>\n",
              "      <td>88.2</td>\n",
              "      <td>258.054</td>\n",
              "      <td>368.2</td>\n",
              "      <td>161.6</td>\n",
              "      <td>109.773</td>\n",
              "      <td>1949</td>\n",
              "      <td>60.171</td>\n",
              "    </tr>\n",
              "    <tr>\n",
              "      <th>3</th>\n",
              "      <td>89.5</td>\n",
              "      <td>284.599</td>\n",
              "      <td>335.1</td>\n",
              "      <td>165.0</td>\n",
              "      <td>110.929</td>\n",
              "      <td>1950</td>\n",
              "      <td>61.187</td>\n",
              "    </tr>\n",
              "    <tr>\n",
              "      <th>4</th>\n",
              "      <td>96.2</td>\n",
              "      <td>328.975</td>\n",
              "      <td>209.9</td>\n",
              "      <td>309.9</td>\n",
              "      <td>112.075</td>\n",
              "      <td>1951</td>\n",
              "      <td>63.221</td>\n",
              "    </tr>\n",
              "  </tbody>\n",
              "</table>\n",
              "</div>\n",
              "      <button class=\"colab-df-convert\" onclick=\"convertToInteractive('df-e2cef5bc-1f46-4439-9a59-1c114119eb37')\"\n",
              "              title=\"Convert this dataframe to an interactive table.\"\n",
              "              style=\"display:none;\">\n",
              "        \n",
              "  <svg xmlns=\"http://www.w3.org/2000/svg\" height=\"24px\"viewBox=\"0 0 24 24\"\n",
              "       width=\"24px\">\n",
              "    <path d=\"M0 0h24v24H0V0z\" fill=\"none\"/>\n",
              "    <path d=\"M18.56 5.44l.94 2.06.94-2.06 2.06-.94-2.06-.94-.94-2.06-.94 2.06-2.06.94zm-11 1L8.5 8.5l.94-2.06 2.06-.94-2.06-.94L8.5 2.5l-.94 2.06-2.06.94zm10 10l.94 2.06.94-2.06 2.06-.94-2.06-.94-.94-2.06-.94 2.06-2.06.94z\"/><path d=\"M17.41 7.96l-1.37-1.37c-.4-.4-.92-.59-1.43-.59-.52 0-1.04.2-1.43.59L10.3 9.45l-7.72 7.72c-.78.78-.78 2.05 0 2.83L4 21.41c.39.39.9.59 1.41.59.51 0 1.02-.2 1.41-.59l7.78-7.78 2.81-2.81c.8-.78.8-2.07 0-2.86zM5.41 20L4 18.59l7.72-7.72 1.47 1.35L5.41 20z\"/>\n",
              "  </svg>\n",
              "      </button>\n",
              "      \n",
              "  <style>\n",
              "    .colab-df-container {\n",
              "      display:flex;\n",
              "      flex-wrap:wrap;\n",
              "      gap: 12px;\n",
              "    }\n",
              "\n",
              "    .colab-df-convert {\n",
              "      background-color: #E8F0FE;\n",
              "      border: none;\n",
              "      border-radius: 50%;\n",
              "      cursor: pointer;\n",
              "      display: none;\n",
              "      fill: #1967D2;\n",
              "      height: 32px;\n",
              "      padding: 0 0 0 0;\n",
              "      width: 32px;\n",
              "    }\n",
              "\n",
              "    .colab-df-convert:hover {\n",
              "      background-color: #E2EBFA;\n",
              "      box-shadow: 0px 1px 2px rgba(60, 64, 67, 0.3), 0px 1px 3px 1px rgba(60, 64, 67, 0.15);\n",
              "      fill: #174EA6;\n",
              "    }\n",
              "\n",
              "    [theme=dark] .colab-df-convert {\n",
              "      background-color: #3B4455;\n",
              "      fill: #D2E3FC;\n",
              "    }\n",
              "\n",
              "    [theme=dark] .colab-df-convert:hover {\n",
              "      background-color: #434B5C;\n",
              "      box-shadow: 0px 1px 3px 1px rgba(0, 0, 0, 0.15);\n",
              "      filter: drop-shadow(0px 1px 2px rgba(0, 0, 0, 0.3));\n",
              "      fill: #FFFFFF;\n",
              "    }\n",
              "  </style>\n",
              "\n",
              "      <script>\n",
              "        const buttonEl =\n",
              "          document.querySelector('#df-e2cef5bc-1f46-4439-9a59-1c114119eb37 button.colab-df-convert');\n",
              "        buttonEl.style.display =\n",
              "          google.colab.kernel.accessAllowed ? 'block' : 'none';\n",
              "\n",
              "        async function convertToInteractive(key) {\n",
              "          const element = document.querySelector('#df-e2cef5bc-1f46-4439-9a59-1c114119eb37');\n",
              "          const dataTable =\n",
              "            await google.colab.kernel.invokeFunction('convertToInteractive',\n",
              "                                                     [key], {});\n",
              "          if (!dataTable) return;\n",
              "\n",
              "          const docLinkHtml = 'Like what you see? Visit the ' +\n",
              "            '<a target=\"_blank\" href=https://colab.research.google.com/notebooks/data_table.ipynb>data table notebook</a>'\n",
              "            + ' to learn more about interactive tables.';\n",
              "          element.innerHTML = '';\n",
              "          dataTable['output_type'] = 'display_data';\n",
              "          await google.colab.output.renderOutput(dataTable, element);\n",
              "          const docLink = document.createElement('div');\n",
              "          docLink.innerHTML = docLinkHtml;\n",
              "          element.appendChild(docLink);\n",
              "        }\n",
              "      </script>\n",
              "    </div>\n",
              "  </div>\n",
              "  "
            ],
            "text/plain": [
              "      0        1      2      3        4     5       6\n",
              "0  83.0  234.289  235.6  159.0  107.608  1947  60.323\n",
              "1  88.5  259.426  232.5  145.6  108.632  1948  61.122\n",
              "2  88.2  258.054  368.2  161.6  109.773  1949  60.171\n",
              "3  89.5  284.599  335.1  165.0  110.929  1950  61.187\n",
              "4  96.2  328.975  209.9  309.9  112.075  1951  63.221"
            ]
          },
          "metadata": {},
          "execution_count": 2
        }
      ]
    },
    {
      "cell_type": "markdown",
      "source": [
        "## Splitting the dataset into x and y"
      ],
      "metadata": {
        "id": "fJqGwds2wLrP"
      }
    },
    {
      "cell_type": "code",
      "source": [
        "while True:\n",
        "  x_col = int(input(\"Input select the column for x (0-6) :\"))\n",
        "  y_col = int(input(\"Input select the column for x (0-6) :\"))\n",
        "  if x_col > 6 or y_col > 6:\n",
        "    print(\"Invalid input !!\")\n",
        "  else:\n",
        "    break"
      ],
      "metadata": {
        "colab": {
          "base_uri": "https://localhost:8080/"
        },
        "id": "cti3Q2-p5w19",
        "outputId": "2ec5fdd6-1824-4240-bfdf-93b9cf3d073e"
      },
      "execution_count": 3,
      "outputs": [
        {
          "name": "stdout",
          "output_type": "stream",
          "text": [
            "Input select the column for x (0-6) :4\n",
            "Input select the column for x (0-6) :6\n"
          ]
        }
      ]
    },
    {
      "cell_type": "code",
      "source": [
        "df = np.array(df)\n",
        "x = df[:, x_col]\n",
        "y = df[:, y_col]"
      ],
      "metadata": {
        "id": "4u5N1ScFvbWf"
      },
      "execution_count": 4,
      "outputs": []
    },
    {
      "cell_type": "code",
      "source": [
        "x"
      ],
      "metadata": {
        "colab": {
          "base_uri": "https://localhost:8080/"
        },
        "id": "B3lkMgRQwY3V",
        "outputId": "b766bc82-e558-488e-bdb2-3d07629f5e5b"
      },
      "execution_count": 5,
      "outputs": [
        {
          "output_type": "execute_result",
          "data": {
            "text/plain": [
              "array([107.608, 108.632, 109.773, 110.929, 112.075, 113.27 , 115.094,\n",
              "       116.219, 117.388, 118.734, 120.445, 121.95 , 123.366, 125.368,\n",
              "       127.852, 130.081])"
            ]
          },
          "metadata": {},
          "execution_count": 5
        }
      ]
    },
    {
      "cell_type": "code",
      "source": [
        "y"
      ],
      "metadata": {
        "colab": {
          "base_uri": "https://localhost:8080/"
        },
        "id": "czHgTmp7wdVW",
        "outputId": "0bf19ea6-be65-43f8-9b99-d9b642973445"
      },
      "execution_count": 6,
      "outputs": [
        {
          "output_type": "execute_result",
          "data": {
            "text/plain": [
              "array([60.323, 61.122, 60.171, 61.187, 63.221, 63.639, 64.989, 63.761,\n",
              "       66.019, 67.857, 68.169, 66.513, 68.655, 69.564, 69.331, 70.551])"
            ]
          },
          "metadata": {},
          "execution_count": 6
        }
      ]
    },
    {
      "cell_type": "markdown",
      "source": [
        "## Visualising the data"
      ],
      "metadata": {
        "id": "u2u9ze_DwS0-"
      }
    },
    {
      "cell_type": "code",
      "source": [
        "pyplot.scatter(x, y)\n",
        "pyplot.show()"
      ],
      "metadata": {
        "colab": {
          "base_uri": "https://localhost:8080/",
          "height": 265
        },
        "id": "nh1-8_yUvdg_",
        "outputId": "d1ec9c2f-8d6c-446b-c5a9-42ed79ace137"
      },
      "execution_count": 7,
      "outputs": [
        {
          "output_type": "display_data",
          "data": {
            "image/png": "[encoded data removed]",
            "text/plain": [
              "<Figure size 432x288 with 1 Axes>"
            ]
          },
          "metadata": {
            "needs_background": "light"
          }
        }
      ]
    },
    {
      "cell_type": "markdown",
      "metadata": {
        "id": "Ltid2xOleTi8"
      },
      "source": [
        "# Straight line\n",
        "### Objective function\n",
        "def objective(x, a, b):      \n",
        "&emsp;return a * x + b"
      ]
    },
    {
      "cell_type": "code",
      "execution_count": 8,
      "metadata": {
        "colab": {
          "base_uri": "https://localhost:8080/",
          "height": 283
        },
        "id": "DR6N3MdIeeht",
        "outputId": "a07c2042-c33c-43f2-81a9-ee4e35f24dce"
      },
      "outputs": [
        {
          "output_type": "stream",
          "name": "stdout",
          "text": [
            "y = 0.48488 * x + 8.38067\n"
          ]
        },
        {
          "output_type": "display_data",
          "data": {
            "image/png": "[encoded data removed]",
            "text/plain": [
              "<Figure size 432x288 with 1 Axes>"
            ]
          },
          "metadata": {
            "needs_background": "light"
          }
        }
      ],
      "source": [
        "def objective(x, a, b):\n",
        "\treturn a * x + b\n",
        "\n",
        "popt= curve_fit(objective, x, y)\n",
        "a, b = popt[0]\n",
        "print('y = %.5f * x + %.5f' % (a, b))\n",
        "pyplot.scatter(x, y)\n",
        "x_line = arange(min(x), max(x), 1)\n",
        "y_line = objective(x_line, a, b)\n",
        "pyplot.plot(x_line, y_line,color='red')\n",
        "pyplot.show()"
      ]
    },
    {
      "cell_type": "markdown",
      "metadata": {
        "id": "605EpCM2fu4I"
      },
      "source": [
        "# Polynomial curve"
      ]
    },
    {
      "cell_type": "markdown",
      "source": [
        "## Second degree polynomial\n",
        "### Objective function\n",
        "def objective(x, a, b, c):  \n",
        "&emsp;return a * x + b * x**2 + c"
      ],
      "metadata": {
        "id": "Qrz6gCxJ1H-9"
      }
    },
    {
      "cell_type": "code",
      "execution_count": 9,
      "metadata": {
        "colab": {
          "base_uri": "https://localhost:8080/",
          "height": 283
        },
        "id": "NMXFJDAtfrV4",
        "outputId": "e93416e8-985f-472f-cfdf-7c7dff65f200"
      },
      "outputs": [
        {
          "output_type": "stream",
          "name": "stdout",
          "text": [
            "y = 3.25443 * x + -0.01170 * x^2 + -155.02783\n"
          ]
        },
        {
          "output_type": "display_data",
          "data": {
            "image/png": "[encoded data removed]",
            "text/plain": [
              "<Figure size 432x288 with 1 Axes>"
            ]
          },
          "metadata": {
            "needs_background": "light"
          }
        }
      ],
      "source": [
        "def objective(x, a, b, c):\n",
        "\treturn a * x + b * x**2 + c\n",
        " \n",
        "popt = curve_fit(objective, x, y)\n",
        "a, b, c = popt[0]\n",
        "print('y = %.5f * x + %.5f * x^2 + %.5f' % (a, b, c))\n",
        "pyplot.scatter(x, y)\n",
        "x_line = arange(min(x), max(x), 1)\n",
        "y_line = objective(x_line, a, b, c)\n",
        "pyplot.plot(x_line, y_line, color='red')\n",
        "pyplot.show()"
      ]
    },
    {
      "cell_type": "markdown",
      "source": [
        "## Fifth degree polynomial\n",
        "### Objective function\n",
        "def objective(x, a, b, c, d, e, f):    \n",
        "&emsp;return (a * x) + (b * x**2) + (c * x**3) + (d * x**4) + (e * x**5) + f"
      ],
      "metadata": {
        "id": "pp-DaPAP1PSA"
      }
    },
    {
      "cell_type": "code",
      "execution_count": 10,
      "metadata": {
        "colab": {
          "base_uri": "https://localhost:8080/",
          "height": 283
        },
        "id": "nVt9lAKkf2Sj",
        "outputId": "9f9ac9cf-5bf4-45d4-a30f-84da4d08a6d6"
      },
      "outputs": [
        {
          "output_type": "stream",
          "name": "stdout",
          "text": [
            "y = (-6477.72057 * x) + (104.60493 * x^2) + (-0.84205 * x^3) + (0.00338 * x^4) + (-0.00001 * x^5) + 160014.30224\n"
          ]
        },
        {
          "output_type": "display_data",
          "data": {
            "image/png": "[encoded data removed]",
            "text/plain": [
              "<Figure size 432x288 with 1 Axes>"
            ]
          },
          "metadata": {
            "needs_background": "light"
          }
        }
      ],
      "source": [
        "def objective(x, a, b, c, d, e, f):\n",
        "\treturn (a * x) + (b * x**2) + (c * x**3) + (d * x**4) + (e * x**5) + f\n",
        " \n",
        "popt = curve_fit(objective, x, y)\n",
        "a, b, c, d, e, f = popt[0]\n",
        "print('y = (%.5f * x) + (%.5f * x^2) + (%.5f * x^3) + (%.5f * x^4) + (%.5f * x^5) + %.5f' % (a, b, c, d, e, f))\n",
        "pyplot.scatter(x, y)\n",
        "x_line = arange(min(x), max(x), 1)\n",
        "y_line = objective(x_line, a, b, c, d, e, f)\n",
        "pyplot.plot(x_line, y_line, color='red')\n",
        "pyplot.show()"
      ]
    },
    {
      "cell_type": "markdown",
      "metadata": {
        "id": "NdUYXunsgKcy"
      },
      "source": [
        "# Sin function\n",
        "### Objective function\n",
        "def objective(x, a, b, c, d):      \n",
        "&emsp;return a * np.sin(b - x) + c * x**2 + d"
      ]
    },
    {
      "cell_type": "code",
      "execution_count": 11,
      "metadata": {
        "colab": {
          "base_uri": "https://localhost:8080/",
          "height": 283
        },
        "id": "K7dXTrIVf60K",
        "outputId": "4c9c8f09-e11b-4dbf-d0b6-b2a6b2b245b5"
      },
      "outputs": [
        {
          "output_type": "stream",
          "name": "stdout",
          "text": [
            "y = 0.88310 * sin(1.48623 - x) + 0.00206 * x^2 + 36.90462\n"
          ]
        },
        {
          "output_type": "display_data",
          "data": {
            "image/png": "[encoded data removed]",
            "text/plain": [
              "<Figure size 432x288 with 1 Axes>"
            ]
          },
          "metadata": {
            "needs_background": "light"
          }
        }
      ],
      "source": [
        "def objective(x, a, b, c, d):\n",
        "\treturn a * np.sin(b - x) + c * x**2 + d\n",
        " \n",
        "popt = curve_fit(objective, x, y)\n",
        "a, b, c, d = popt[0]\n",
        "print('y = %.5f * sin(%.5f - x) + %.5f * x^2 + %.5f' % (a, b, c, d))\n",
        "pyplot.scatter(x, y)\n",
        "x_line = arange(min(x), max(x), 1)\n",
        "y_line = objective(x_line, a, b, c, d)\n",
        "pyplot.plot(x_line, y_line, color='red')\n",
        "pyplot.show()"
      ]
    }
  ],
  "metadata": {
    "colab": {
      "name": "Best fit curve.ipynb",
      "provenance": [],
      "collapsed_sections": [],
      "authorship_tag": "ABX9TyPtlF1Vbp1wdr5Qjfllw4eh",
      "include_colab_link": true
    },
    "kernelspec": {
      "display_name": "Python 3",
      "name": "python3"
    },
    "language_info": {
      "name": "python"
    }
  },
  "nbformat": 4,
  "nbformat_minor": 0
}